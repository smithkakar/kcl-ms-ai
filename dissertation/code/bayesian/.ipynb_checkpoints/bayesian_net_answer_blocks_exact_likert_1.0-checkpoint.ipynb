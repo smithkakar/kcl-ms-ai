{
 "cells": [
  {
   "cell_type": "code",
   "execution_count": 1,
   "metadata": {},
   "outputs": [],
   "source": [
    "%matplotlib inline\n",
    "import os\n",
    "import numpy as np\n",
    "import pandas as pd\n",
    "import matplotlib.pyplot as plt\n",
    "import re\n",
    "import seaborn as sns\n",
    "from pomegranate import BayesianNetwork\n",
    "import pygraphviz\n",
    "from joblib import dump, load"
   ]
  },
  {
   "cell_type": "code",
   "execution_count": 2,
   "metadata": {},
   "outputs": [],
   "source": [
    "SURVEY_PATH = 'datasets/survey'\n",
    "PROJECT_ROOT_DIR = \".\"\n",
    "IMAGES_DIR = 'images'\n",
    "HISTOGRAMS_DIR = 'images/histograms'\n",
    "BAYESIAN_DIR = 'images/bayesian'\n",
    "VISUALISATION_DIR = 'images/visualisations'"
   ]
  },
  {
   "cell_type": "code",
   "execution_count": 3,
   "metadata": {},
   "outputs": [],
   "source": [
    "def save_fig(folder, fig_id, tight_layout=True):\n",
    "    if not os.path.isdir(folder):\n",
    "        os.makedirs(folder)\n",
    "    file_path = os.path.join(folder, fig_id + '.png')\n",
    "    if tight_layout:\n",
    "        plt.tight_layout()\n",
    "    plt.savefig(file_path, format='png', dpi=300)"
   ]
  },
  {
   "cell_type": "code",
   "execution_count": 4,
   "metadata": {},
   "outputs": [],
   "source": [
    "def load_survey_data():\n",
    "    df = pd.read_csv('All_Responses_Removed.csv')\n",
    "    return df"
   ]
  },
  {
   "cell_type": "code",
   "execution_count": 5,
   "metadata": {},
   "outputs": [],
   "source": [
    "user_responses = load_survey_data()"
   ]
  },
  {
   "cell_type": "code",
   "execution_count": 6,
   "metadata": {},
   "outputs": [],
   "source": [
    "user_responses.drop(columns=['Prolific ID'], inplace=True)\n",
    "user_responses.columns = user_responses.columns.str.replace(r'[\\s\\n\\t ]+', '-')\n",
    "user_responses.columns = user_responses.columns.str.replace(r'[a-d]-', '-')\n",
    "demographics_data = user_responses.iloc[:, :8]\n",
    "demographics_user_responses = demographics_data.reindex(sorted(demographics_data.columns), axis=1)\n",
    "question_subset = user_responses.reindex(sorted(user_responses.columns[8:]), axis=1)\n",
    "reordered_user_responses = pd.concat([demographics_user_responses, question_subset], axis=1)"
   ]
  },
  {
   "cell_type": "code",
   "execution_count": 7,
   "metadata": {},
   "outputs": [],
   "source": [
    "blocks = {}\n",
    "block_1 = [3, 4, 8, 12, 16, 17, 22, 25, 28, 30, 34, 37, 38, 40, 44, 48, 49]\n",
    "block_2 = [2, 6, 10, 13, 14, 18, 19, 24, 27, 31, 32, 35, 39, 41, 45, 47, 50]\n",
    "block_3 = [1, 5, 7, 9, 11, 15, 20, 21, 23, 26, 29, 33, 36, 42, 43, 46]\n",
    "block_1_labels = []\n",
    "for i in range(len(block_1)):\n",
    "    block_1_labels.append(str(block_1[i]).zfill(2) + '-Truthfulness')\n",
    "block_2_labels = []\n",
    "for i in range(len(block_2)):\n",
    "    block_2_labels.append(str(block_2[i]).zfill(2) + '-Truthfulness')\n",
    "block_3_labels = []\n",
    "for i in range(len(block_3)):\n",
    "    block_3_labels.append(str(block_3[i]).zfill(2) + '-Truthfulness')\n",
    "blocks['1'] = block_1_labels\n",
    "blocks['2'] = block_2_labels\n",
    "blocks['3'] = block_3_labels\n",
    "# labels = reordered_user_responses.iloc[:, 10:207:4]\n",
    "# labels = labels.replace([1.0, 2.0, 3.0, 4.0], 0)\n",
    "# labels = labels.replace([5.0, 6.0, 7.0], 1)"
   ]
  },
  {
   "cell_type": "code",
   "execution_count": null,
   "metadata": {
    "scrolled": true
   },
   "outputs": [],
   "source": [
    "fig = plt.figure(figsize=(30, 30), dpi=300)\n",
    "bayes_algorithm = 'exact'\n",
    "bayesian_net_models = {}\n",
    "for block, value in blocks.items():\n",
    "\n",
    "    subset = reordered_user_responses.loc[:, value]\n",
    "\n",
    "#     subset.fillna(subset.mean(), inplace=True)\n",
    "#     subset = subset.round(0)\n",
    "    \n",
    "    if block == '1':\n",
    "        column_names = ['DoB', 'Birth Country', 'Home Address', 'Workplace Travel', 'Ethnicity', 'Politics', \n",
    "                   'Memorable Event', 'Study/Education', 'Alcoholic Beverages', 'Favourite Mobile Brand',\n",
    "                   'Author', 'Government Banned Movie', 'Web Browser', 'Favourite Actor/Actress',\n",
    "                   'Last movie at cinema', 'Go to cinema with','Rent adult movies']\n",
    "    if block == '2':\n",
    "        column_names = ['Gender', 'City of Residence', 'Workplace Postcode', 'Personal Email', \n",
    "                        'Professional Email', 'Religion', 'Sexual Orientation', 'Illnesses',\n",
    "                        'Hobby/Pastime', 'Hurt Sentiments - Movie', 'Holiday Destination', 'Music Genre',\n",
    "                        'Age for Adult movie', 'Favourite Movie', 'Money on cinema weekly', \n",
    "                        'Illegal streaming/downloading', 'Favourite Pornstar']\n",
    "    if block == '3':\n",
    "        column_names = ['Name', 'Country of Residence', 'Home Postcode', 'Employer Name', 'Work Address',\n",
    "                        'Phone Number', 'Relationship Status', 'Lied to Partner', 'Languages', \n",
    "                        'Annual Income', 'Shared X-rated movies', 'Lied about Age', 'Musician', \n",
    "                        'Favourite Movie Genre', 'Favourite Soundtrack', 'Online rental subscriptions']\n",
    "    \n",
    "#     column_names = list(subset.columns.values)\n",
    "    model = BayesianNetwork.from_samples(subset, state_names = column_names, algorithm=bayes_algorithm)\n",
    "    if block not in bayesian_net_models:\n",
    "        bayesian_net_models[block] = model\n",
    "    \n",
    "#     fig.suptitle('Bayesian Network \\n'  + 'Block-' + block, fontsize=30, fontweight='bold')\n",
    "    plt.title('Truthfulness \\n Bayesian Network \\n'  + 'Block-' + block, fontsize=30, fontweight='bold')\n",
    "    model.plot(with_labels=True)\n",
    "    save_fig(BAYESIAN_DIR, bayes_algorithm + '_bayesian_net_likert_' + 'block_' + block)\n",
    "    \n",
    "    # save the model to disk\n",
    "#     filename = bayes_algorithm + '_likert_block_' + block + '.json'\n",
    "#     with open(filename, \"w\") as outfile:\n",
    "#         outfile.write(model.to_json())\n",
    "    \n",
    "#     dump(model, filename)\n"
   ]
  },
  {
   "cell_type": "code",
   "execution_count": 9,
   "metadata": {},
   "outputs": [
    {
     "name": "stdout",
     "output_type": "stream",
     "text": [
      "Block-1\n"
     ]
    },
    {
     "ename": "TypeError",
     "evalue": "can only concatenate str (not \"int\") to str",
     "output_type": "error",
     "traceback": [
      "\u001b[0;31m---------------------------------------------------------------------------\u001b[0m",
      "\u001b[0;31mTypeError\u001b[0m                                 Traceback (most recent call last)",
      "\u001b[0;32m<ipython-input-9-104ac65dcc8d>\u001b[0m in \u001b[0;36m<module>\u001b[0;34m\u001b[0m\n\u001b[1;32m      1\u001b[0m \u001b[0;32mfor\u001b[0m \u001b[0mblock\u001b[0m\u001b[0;34m,\u001b[0m \u001b[0mmodel\u001b[0m \u001b[0;32min\u001b[0m \u001b[0mbayesian_net_models\u001b[0m\u001b[0;34m.\u001b[0m\u001b[0mitems\u001b[0m\u001b[0;34m(\u001b[0m\u001b[0;34m)\u001b[0m\u001b[0;34m:\u001b[0m\u001b[0;34m\u001b[0m\u001b[0;34m\u001b[0m\u001b[0m\n\u001b[1;32m      2\u001b[0m         \u001b[0mprint\u001b[0m\u001b[0;34m(\u001b[0m\u001b[0;34m'Block-'\u001b[0m\u001b[0;34m+\u001b[0m \u001b[0mblock\u001b[0m\u001b[0;34m)\u001b[0m\u001b[0;34m\u001b[0m\u001b[0;34m\u001b[0m\u001b[0m\n\u001b[0;32m----> 3\u001b[0;31m         \u001b[0mprint\u001b[0m\u001b[0;34m(\u001b[0m\u001b[0;34m'State Count: '\u001b[0m \u001b[0;34m+\u001b[0m \u001b[0mmodel\u001b[0m\u001b[0;34m.\u001b[0m\u001b[0mstate_count\u001b[0m\u001b[0;34m(\u001b[0m\u001b[0;34m)\u001b[0m\u001b[0;34m)\u001b[0m\u001b[0;34m\u001b[0m\u001b[0;34m\u001b[0m\u001b[0m\n\u001b[0m\u001b[1;32m      4\u001b[0m         \u001b[0mprint\u001b[0m\u001b[0;34m(\u001b[0m\u001b[0;34m'Edge Count: '\u001b[0m \u001b[0;34m+\u001b[0m \u001b[0mmodel\u001b[0m\u001b[0;34m.\u001b[0m\u001b[0medge_count\u001b[0m\u001b[0;34m(\u001b[0m\u001b[0;34m)\u001b[0m\u001b[0;34m)\u001b[0m\u001b[0;34m\u001b[0m\u001b[0;34m\u001b[0m\u001b[0m\n\u001b[1;32m      5\u001b[0m         \u001b[0mprint\u001b[0m\u001b[0;34m(\u001b[0m\u001b[0;34m'Node Count: '\u001b[0m \u001b[0;34m+\u001b[0m \u001b[0mmodel\u001b[0m\u001b[0;34m.\u001b[0m\u001b[0mnode_count\u001b[0m\u001b[0;34m(\u001b[0m\u001b[0;34m)\u001b[0m\u001b[0;34m)\u001b[0m\u001b[0;34m\u001b[0m\u001b[0;34m\u001b[0m\u001b[0m\n",
      "\u001b[0;31mTypeError\u001b[0m: can only concatenate str (not \"int\") to str"
     ]
    }
   ],
   "source": [
    "\n",
    "for block, model in bayesian_net_models.items():\n",
    "        print('Block-'+ block)\n",
    "        print('State Count: ', model.state_count())\n",
    "        print('Edge Count: ', model.edge_count())\n",
    "        print('Node Count: ', model.node_count())\n",
    "        print('------------')\n"
   ]
  },
  {
   "cell_type": "code",
   "execution_count": null,
   "metadata": {},
   "outputs": [],
   "source": [
    "# scenario = [[None, None, None, None, None, None, None, None, None, 1, 2, 7]]"
   ]
  },
  {
   "cell_type": "code",
   "execution_count": null,
   "metadata": {},
   "outputs": [],
   "source": [
    "# block_1_model = BayesianNetwork.from_json(bayes_algorithm + '_binary_block_' + '1' + '.joblib')"
   ]
  },
  {
   "cell_type": "code",
   "execution_count": null,
   "metadata": {},
   "outputs": [],
   "source": [
    "# block_2_model = BayesianNetwork.from_json(bayes_algorithm + '_binary_block_' + '2' + '.joblib')"
   ]
  },
  {
   "cell_type": "code",
   "execution_count": null,
   "metadata": {},
   "outputs": [],
   "source": [
    "# block_3_model = BayesianNetwork.from_json(bayes_algorithm + '_binary_block_' + '3' + '.joblib')"
   ]
  }
 ],
 "metadata": {
  "kernelspec": {
   "display_name": "Python 3",
   "language": "python",
   "name": "python3"
  },
  "language_info": {
   "codemirror_mode": {
    "name": "ipython",
    "version": 3
   },
   "file_extension": ".py",
   "mimetype": "text/x-python",
   "name": "python",
   "nbconvert_exporter": "python",
   "pygments_lexer": "ipython3",
   "version": "3.7.3"
  }
 },
 "nbformat": 4,
 "nbformat_minor": 2
}
