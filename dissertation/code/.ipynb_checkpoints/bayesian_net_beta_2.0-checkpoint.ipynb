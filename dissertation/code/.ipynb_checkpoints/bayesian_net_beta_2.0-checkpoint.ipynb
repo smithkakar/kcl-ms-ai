{
 "cells": [
  {
   "cell_type": "code",
   "execution_count": 105,
   "metadata": {},
   "outputs": [],
   "source": [
    "%matplotlib inline\n",
    "import os\n",
    "import numpy as np\n",
    "import pandas as pd\n",
    "import matplotlib.pyplot as plt\n",
    "import re\n",
    "import seaborn as sns\n",
    "from pomegranate import BayesianNetwork\n",
    "import networkx as nx\n",
    "import pygraphviz\n",
    "# import pillow\n",
    "# import graphviz"
   ]
  },
  {
   "cell_type": "code",
   "execution_count": 106,
   "metadata": {},
   "outputs": [],
   "source": [
    "SURVEY_PATH = 'datasets/survey'\n",
    "PROJECT_ROOT_DIR = \".\"\n",
    "IMAGES_DIR = 'images'\n",
    "HISTOGRAMS_DIR = 'images/histograms'\n",
    "BAYESIAN_DIR = 'images/bayesian'\n",
    "VISUALISATION_DIR = 'images/visualisations'"
   ]
  },
  {
   "cell_type": "code",
   "execution_count": 107,
   "metadata": {},
   "outputs": [],
   "source": [
    "def save_fig(folder, fig_id, tight_layout=True):\n",
    "    if not os.path.isdir(folder):\n",
    "        os.makedirs(folder)\n",
    "        \n",
    "    file_path = os.path.join(folder, fig_id + '.png')\n",
    "#     path = os.path.join(PROJECT_ROOT_DIR, \"images\", fig_id + \".png\")\n",
    "#     print(\"Saving figure\", fig_id)\n",
    "    if tight_layout:\n",
    "        plt.tight_layout()\n",
    "    plt.savefig(file_path, format='png', dpi=300)"
   ]
  },
  {
   "cell_type": "code",
   "execution_count": 108,
   "metadata": {},
   "outputs": [],
   "source": [
    "def load_survey_data():\n",
    "    df = pd.read_csv('All_Responses_Removed.csv')\n",
    "    return df"
   ]
  },
  {
   "cell_type": "code",
   "execution_count": 109,
   "metadata": {},
   "outputs": [],
   "source": [
    "user_responses = load_survey_data()"
   ]
  },
  {
   "cell_type": "code",
   "execution_count": 110,
   "metadata": {},
   "outputs": [],
   "source": [
    "user_responses.drop(columns=['Prolific ID'], inplace=True)\n",
    "user_responses.columns = user_responses.columns.str.replace(r'[\\s\\n\\t ]+', '-')\n",
    "user_responses.columns = user_responses.columns.str.replace(r'[a-d]-', '-')\n",
    "demographics_data = user_responses.iloc[:, :8]\n",
    "demographics_user_responses = demographics_data.reindex(sorted(demographics_data.columns), axis=1)\n",
    "question_subset = user_responses.reindex(sorted(user_responses.columns[8:]), axis=1)\n",
    "reordered_user_responses = pd.concat([demographics_user_responses, question_subset], axis=1)\n",
    "relevant_indexes = []\n",
    "demographics_column_indexes = ['Age', 'Gender', 'IUIPC-Awareness', 'IUIPC-Collection', 'IUIPC-Control',\n",
    "                               'Online-Presence', 'Personal-Stability', 'Reciprocity']\n",
    "sub_indexes = ['IUIPC-Awareness', 'IUIPC-Collection', 'IUIPC-Control', 'Personal-Stability', 'Reciprocity']\n",
    "# relevant_indexes.extend(demographics_column_indexes)\n",
    "relevant_indexes.extend(sub_indexes)"
   ]
  },
  {
   "cell_type": "code",
   "execution_count": 111,
   "metadata": {},
   "outputs": [],
   "source": [
    "reordered_user_responses.loc[reordered_user_responses['Age'] <= 17, 'Age'] = 0\n",
    "reordered_user_responses.loc[(reordered_user_responses['Age'] > 17) & (reordered_user_responses['Age'] <= 24), 'Age'] = 1\n",
    "reordered_user_responses.loc[(reordered_user_responses['Age'] > 24) & (reordered_user_responses['Age'] <= 34), 'Age'] = 2\n",
    "reordered_user_responses.loc[(reordered_user_responses['Age'] > 34) & (reordered_user_responses['Age'] <= 44), 'Age'] = 3\n",
    "reordered_user_responses.loc[(reordered_user_responses['Age'] > 44) & (reordered_user_responses['Age'] <= 54), 'Age'] = 4\n",
    "reordered_user_responses.loc[(reordered_user_responses['Age'] > 54) & (reordered_user_responses['Age'] <= 64), 'Age'] = 5\n",
    "reordered_user_responses.loc[reordered_user_responses['Age'] > 64, 'Age'] = 6\n",
    "\n",
    "reordered_user_responses.loc[reordered_user_responses['Online-Presence'] <= 5, 'Online-Presence'] = 0\n",
    "reordered_user_responses.loc[(reordered_user_responses['Online-Presence'] > 5) & (\n",
    "        reordered_user_responses['Online-Presence'] <= 10), 'Online-Presence'] = 1\n",
    "reordered_user_responses.loc[(reordered_user_responses['Online-Presence'] > 10) & (\n",
    "        reordered_user_responses['Online-Presence'] <= 15), 'Online-Presence'] = 2\n",
    "reordered_user_responses.loc[(reordered_user_responses['Online-Presence'] > 15) & (\n",
    "        reordered_user_responses['Online-Presence'] <= 20), 'Online-Presence'] = 3\n",
    "reordered_user_responses.loc[(reordered_user_responses['Online-Presence'] > 20) & (\n",
    "        reordered_user_responses['Online-Presence'] <= 25), 'Online-Presence'] = 4"
   ]
  },
  {
   "cell_type": "code",
   "execution_count": 112,
   "metadata": {},
   "outputs": [
    {
     "name": "stdout",
     "output_type": "stream",
     "text": [
      "   IUIPC-Awareness  IUIPC-Collection  IUIPC-Control  Personal-Stability  \\\n",
      "0              1.5              1.00           2.67                 2.8   \n",
      "1              1.0              1.50           2.00                 5.2   \n",
      "2              1.0              1.75           1.33                 2.2   \n",
      "3              1.0              1.00           1.00                 4.8   \n",
      "4              1.5              1.75           3.33                 4.0   \n",
      "\n",
      "   Reciprocity  01-Effort  01-Relevance  01-Uncomfortable  01-Truthfulness  \n",
      "0         6.83        1.0           1.0               5.0              7.0  \n",
      "1         3.00        1.0           1.0               7.0              6.0  \n",
      "2         3.00        NaN           NaN               NaN              NaN  \n",
      "3         4.33        NaN           NaN               NaN              NaN  \n",
      "4         3.67        NaN           NaN               NaN              NaN  \n"
     ]
    },
    {
     "data": {
      "image/png": "[encoded data removed]",
      "text/plain": [
       "<Figure size 432x288 with 1 Axes>"
      ]
     },
     "metadata": {
      "needs_background": "light"
     },
     "output_type": "display_data"
    }
   ],
   "source": [
    "for question_number in range(1, 2):\n",
    "    columns = []\n",
    "    question = 'Q' + str(question_number).zfill(2)\n",
    "    columns.extend([str(question_number).zfill(2) + '-Effort',\n",
    "                    str(question_number).zfill(2) + '-Relevance',\n",
    "                    str(question_number).zfill(2) + '-Uncomfortable',\n",
    "                    str(question_number).zfill(2) + '-Truthfulness'])\n",
    "    relevant_indexes.extend(columns)\n",
    "    \n",
    "#     model = BayesianNetwork.from_samples(cleaned_user_responses, algorithm='exact')\n",
    "    \n",
    "    model = BayesianNetwork.from_samples(reordered_user_responses[relevant_indexes], algorithm='exact')\n",
    "    model.plot(with_labels=True)\n",
    "    save_fig(BAYESIAN_DIR, 'bayesian_network_' + 'test')\n",
    "    \n",
    "    print(reordered_user_responses[relevant_indexes].head())\n",
    "                                                                  \n",
    "    del relevant_indexes[5:]"
   ]
  },
  {
   "cell_type": "code",
   "execution_count": null,
   "metadata": {},
   "outputs": [],
   "source": []
  },
  {
   "cell_type": "code",
   "execution_count": null,
   "metadata": {},
   "outputs": [],
   "source": []
  }
 ],
 "metadata": {
  "kernelspec": {
   "display_name": "Python 3",
   "language": "python",
   "name": "python3"
  },
  "language_info": {
   "codemirror_mode": {
    "name": "ipython",
    "version": 3
   },
   "file_extension": ".py",
   "mimetype": "text/x-python",
   "name": "python",
   "nbconvert_exporter": "python",
   "pygments_lexer": "ipython3",
   "version": "3.7.3"
  }
 },
 "nbformat": 4,
 "nbformat_minor": 2
}
