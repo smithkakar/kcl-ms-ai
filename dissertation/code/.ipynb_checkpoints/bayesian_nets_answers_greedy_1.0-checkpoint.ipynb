{
 "cells": [
  {
   "cell_type": "code",
   "execution_count": 1,
   "metadata": {},
   "outputs": [],
   "source": [
    "%matplotlib inline\n",
    "import os\n",
    "import numpy as np\n",
    "import pandas as pd\n",
    "import matplotlib.pyplot as plt\n",
    "import re\n",
    "import seaborn as sns\n",
    "from pomegranate import BayesianNetwork\n",
    "import pygraphviz"
   ]
  },
  {
   "cell_type": "code",
   "execution_count": 2,
   "metadata": {},
   "outputs": [],
   "source": [
    "SURVEY_PATH = 'datasets/survey'\n",
    "PROJECT_ROOT_DIR = \".\"\n",
    "IMAGES_DIR = 'images'\n",
    "HISTOGRAMS_DIR = 'images/histograms'\n",
    "BAYESIAN_DIR = 'images/bayesian'\n",
    "VISUALISATION_DIR = 'images/visualisations'"
   ]
  },
  {
   "cell_type": "code",
   "execution_count": 3,
   "metadata": {},
   "outputs": [],
   "source": [
    "def save_fig(folder, fig_id, tight_layout=True):\n",
    "    if not os.path.isdir(folder):\n",
    "        os.makedirs(folder)\n",
    "        \n",
    "    file_path = os.path.join(folder, fig_id + '.png')\n",
    "#     path = os.path.join(PROJECT_ROOT_DIR, \"images\", fig_id + \".png\")\n",
    "#     print(\"Saving figure\", fig_id)\n",
    "    if tight_layout:\n",
    "        plt.tight_layout()\n",
    "    plt.savefig(file_path, format='png', dpi=300)"
   ]
  },
  {
   "cell_type": "code",
   "execution_count": 4,
   "metadata": {},
   "outputs": [],
   "source": [
    "def load_survey_data():\n",
    "    df = pd.read_csv('All_Responses_Removed.csv')\n",
    "    return df"
   ]
  },
  {
   "cell_type": "code",
   "execution_count": 5,
   "metadata": {},
   "outputs": [],
   "source": [
    "user_responses = load_survey_data()"
   ]
  },
  {
   "cell_type": "code",
   "execution_count": 6,
   "metadata": {},
   "outputs": [],
   "source": [
    "user_responses.drop(columns=['Prolific ID'], inplace=True)\n",
    "user_responses.columns = user_responses.columns.str.replace(r'[\\s\\n\\t ]+', '-')\n",
    "user_responses.columns = user_responses.columns.str.replace(r'[a-d]-', '-')\n",
    "demographics_data = user_responses.iloc[:, :8]\n",
    "demographics_user_responses = demographics_data.reindex(sorted(demographics_data.columns), axis=1)\n",
    "question_subset = user_responses.reindex(sorted(user_responses.columns[8:]), axis=1)\n",
    "reordered_user_responses = pd.concat([demographics_user_responses, question_subset], axis=1)\n",
    "relevant_indexes = []\n",
    "demographics_column_indexes = ['Age', 'Gender', 'IUIPC-Awareness', 'IUIPC-Collection', 'IUIPC-Control',\n",
    "                               'Online-Presence', 'Personal-Stability', 'Reciprocity']\n",
    "relevant_indexes.extend(demographics_column_indexes)\n",
    "# sub_indexes = ['IUIPC-Awareness', 'IUIPC-Collection', 'IUIPC-Control', 'Personal-Stability', 'Reciprocity']\n",
    "# relevant_indexes.extend(sub_indexes)\n"
   ]
  },
  {
   "cell_type": "code",
   "execution_count": 7,
   "metadata": {},
   "outputs": [],
   "source": [
    "reordered_user_responses.loc[reordered_user_responses['Age'] <= 17, 'Age'] = 0\n",
    "reordered_user_responses.loc[(reordered_user_responses['Age'] > 17) & (reordered_user_responses['Age'] <= 24), 'Age'] = 1\n",
    "reordered_user_responses.loc[(reordered_user_responses['Age'] > 24) & (reordered_user_responses['Age'] <= 34), 'Age'] = 2\n",
    "reordered_user_responses.loc[(reordered_user_responses['Age'] > 34) & (reordered_user_responses['Age'] <= 44), 'Age'] = 3\n",
    "reordered_user_responses.loc[(reordered_user_responses['Age'] > 44) & (reordered_user_responses['Age'] <= 54), 'Age'] = 4\n",
    "reordered_user_responses.loc[(reordered_user_responses['Age'] > 54) & (reordered_user_responses['Age'] <= 64), 'Age'] = 5\n",
    "reordered_user_responses.loc[reordered_user_responses['Age'] > 64, 'Age'] = 6\n",
    "\n",
    "reordered_user_responses.loc[reordered_user_responses['Online-Presence'] <= 5, 'Online-Presence'] = 0\n",
    "reordered_user_responses.loc[(reordered_user_responses['Online-Presence'] > 5) & (\n",
    "        reordered_user_responses['Online-Presence'] <= 10), 'Online-Presence'] = 1\n",
    "reordered_user_responses.loc[(reordered_user_responses['Online-Presence'] > 10) & (\n",
    "        reordered_user_responses['Online-Presence'] <= 15), 'Online-Presence'] = 2\n",
    "reordered_user_responses.loc[(reordered_user_responses['Online-Presence'] > 15) & (\n",
    "        reordered_user_responses['Online-Presence'] <= 20), 'Online-Presence'] = 3\n",
    "reordered_user_responses.loc[(reordered_user_responses['Online-Presence'] > 20) & (\n",
    "        reordered_user_responses['Online-Presence'] <= 25), 'Online-Presence'] = 4\n",
    "labels = reordered_user_responses.iloc[:, 10:207:4]\n",
    "# labels = labels.replace([1.0, 2.0, 3.0, 4.0], 0)\n",
    "# labels = labels.replace([5.0, 6.0, 7.0], 1)"
   ]
  },
  {
   "cell_type": "code",
   "execution_count": null,
   "metadata": {
    "scrolled": true
   },
   "outputs": [],
   "source": [
    "sub_labels = labels.iloc[:, 0:51]\n",
    "\n",
    "fig = plt.figure(figsize=(30,30), dpi=300)\n",
    "bayesian_net_models = {}\n",
    "# scenario = [[None, None, None, None, None, None, None, None, None, 1, 2, 7]]\n",
    "# subset = reordered_user_responses[relevant_indexes]\n",
    "\n",
    "# sub_labels.fillna(sub_labels.mean(), inplace=True)\n",
    "# sub_labels = sub_labels.round(0)\n",
    "\n",
    "column_names = list(sub_labels.columns.values)\n",
    "\n",
    "model = BayesianNetwork.from_samples(sub_labels, state_names = column_names, algorithm='greedy', n_jobs=-1)\n",
    "# fig.suptitle('Bayesian Network \\n'  + 'Truthfulness', fontsize=20)\n",
    "plt.title('Exact \\n Bayesian Network \\n' + '(Truthfulness)', fontsize=20)\n",
    "model.plot(with_labels=True)\n",
    "\n",
    "#     save_fig(BAYESIAN_DIR, 'bayesian_net_' + question)\n",
    "\n"
   ]
  },
  {
   "cell_type": "code",
   "execution_count": null,
   "metadata": {},
   "outputs": [],
   "source": [
    "\n",
    "\n"
   ]
  },
  {
   "cell_type": "code",
   "execution_count": null,
   "metadata": {},
   "outputs": [],
   "source": []
  }
 ],
 "metadata": {
  "kernelspec": {
   "display_name": "Python 3",
   "language": "python",
   "name": "python3"
  },
  "language_info": {
   "codemirror_mode": {
    "name": "ipython",
    "version": 3
   },
   "file_extension": ".py",
   "mimetype": "text/x-python",
   "name": "python",
   "nbconvert_exporter": "python",
   "pygments_lexer": "ipython3",
   "version": "3.7.3"
  }
 },
 "nbformat": 4,
 "nbformat_minor": 2
}
